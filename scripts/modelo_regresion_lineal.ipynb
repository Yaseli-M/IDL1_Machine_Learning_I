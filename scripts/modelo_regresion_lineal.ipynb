{
 "cells": [
  {
   "cell_type": "code",
   "execution_count": null,
   "id": "97c42328",
   "metadata": {
    "vscode": {
     "languageId": "plaintext"
    }
   },
   "outputs": [],
   "source": []
  },
  {
   "cell_type": "code",
   "execution_count": null,
   "id": "a366d723",
   "metadata": {},
   "outputs": [],
   "source": [
    "# 1. Importamos las librerías necesarias\n",
    "import pandas as pd\n",
    "import numpy as np\n",
    "import os\n",
    "from datetime import datetime\n",
    "from sklearn.linear_model import LinearRegression\n",
    "from sklearn.model_selection import train_test_split\n",
    "from sklearn.metrics import mean_squared_error, r2_score\n",
    "import matplotlib.pyplot as plt\n",
    "import seaborn as sns"
   ]
  },
  {
   "cell_type": "code",
   "execution_count": null,
   "id": "ececcfc2",
   "metadata": {},
   "outputs": [],
   "source": [
    "# 2. Cargamos los datos\n",
    "# Ruta del dataset\n",
    "data_path = os.path.join(os.path.dirname(os.getcwd()), 'data_sintetica', 'dataset_compras.csv')\n",
    "#Cargar el dataset\n",
    "df = pd.read_csv(data_path)\n",
    "# Mostrar primeras filas\n",
    "df.head()"
   ]
  },
  {
   "cell_type": "code",
   "execution_count": null,
   "id": "942604d8",
   "metadata": {},
   "outputs": [],
   "source": [
    "# 3. Vericamos las columnas\n",
    "print(\"Columnas disponibles:\")\n",
    "print(df.columns)"
   ]
  },
  {
   "cell_type": "code",
   "execution_count": null,
   "id": "1c66f883",
   "metadata": {},
   "outputs": [],
   "source": [
    "# 4. Definimos las variables predictoras y la variable objetivo\n",
    "# Variables predictoras\n",
    "X = df[['edad', 'ingresos', 'visitas_web', 'tiempo_web', 'productos_vistos', 'promociones_usadas']]\n",
    "\n",
    "# Variable objetivo\n",
    "y = df['monto_venta']"
   ]
  },
  {
   "cell_type": "code",
   "execution_count": null,
   "id": "6bcff7f0",
   "metadata": {},
   "outputs": [],
   "source": [
    "# 5. Dividimos los datos en conjuntos de entrenamiento y prueba\n",
    "X_train, X_test, y_train, y_test = train_test_split(\n",
    "    X, y, test_size=0.3, random_state=42\n",
    ")\n",
    "\n",
    "# ID de clientes de test\n",
    "id_test = df.loc[y_test.index, 'ID_Cliente'].reset_index(drop=True)"
   ]
  },
  {
   "cell_type": "code",
   "execution_count": null,
   "id": "47ac876d",
   "metadata": {},
   "outputs": [],
   "source": [
    "# 6. Entrenamos el modelo de regresión lineal\n",
    "modelo = LinearRegression()\n",
    "modelo.fit(X_train, y_train)"
   ]
  },
  {
   "cell_type": "code",
   "execution_count": null,
   "id": "2f755c65",
   "metadata": {},
   "outputs": [],
   "source": [
    "# 7. Realizamos predicciones\n",
    "y_pred = modelo.predict(X_test)"
   ]
  },
  {
   "cell_type": "code",
   "execution_count": null,
   "id": "45779a8a",
   "metadata": {},
   "outputs": [],
   "source": [
    "# 8. Evaluamos el modelo\n",
    "mse = mean_squared_error(y_test, y_pred)    \n",
    "r2 = r2_score(y_test, y_pred)\n",
    "print(f\"Error Cuadrático Medio: {mse}\")\n",
    "print(f\"R^2: {r2}\")\n",
    "\n",
    "print(f\" - Error Cuadrático Medio (MSE): {mse:.2f}\")\n",
    "print(f\" - Coeficiente de Determinación (R²): {r2:.4f}\")"
   ]
  },
  {
   "cell_type": "code",
   "execution_count": null,
   "id": "da933d86",
   "metadata": {},
   "outputs": [],
   "source": [
    "# 9. Visualizamos los resultados\n",
    "plt.figure(figsize=(10, 6))\n",
    "sns.scatterplot(x=y_test, y=y_pred, alpha=0.3)\n",
    "plt.plot([y.min(), y.max()], [y.min(), y.max()], color='red', linestyle='--')\n",
    "plt.title(\"Monto real vs Monto predicho\")   \n",
    "plt.xlabel(\"Monto real\")\n",
    "plt.ylabel(\"Monto predicho\")\n",
    "plt.grid(True)\n",
    "plt.tight_layout()\n",
    "plt.show()\n",
    "\n",
    "plt.figure(figsize=(8, 5))\n",
    "sns.scatterplot(x=y_test, y=y_pred, alpha=0.3)\n",
    "plt.title(\"Monto real vs Monto predicho\")\n",
    "plt.xlabel(\"Monto real\")\n",
    "plt.ylabel(\"Monto predicho\")\n",
    "plt.grid(True)\n",
    "plt.show()\n"
   ]
  },
  {
   "cell_type": "code",
   "execution_count": null,
   "id": "263b4179",
   "metadata": {},
   "outputs": [],
   "source": [
    "# 10. Guadamos los resultados del modelo\n",
    "# Convertir resultados en DataFrame\n",
    "df_resultados = pd.DataFrame({\n",
    "    'ID_Cliente': id_test,\n",
    "    'monto_real': y_test.reset_index(drop=True),\n",
    "    'monto_predicho': y_pred.round(2),\n",
    "    'error_absoluto': np.abs(y_test.reset_index(drop=True) - y_pred).round(2)\n",
    "})\n",
    "\n",
    "# Ruta de guardado\n",
    "result_dir = os.path.join(os.path.dirname(os.getcwd()), 'resultados_modelos', 'regresion')\n",
    "os.makedirs(result_dir, exist_ok=True)\n",
    "\n",
    "# Nombre del archivo\n",
    "timestamp = datetime.now().strftime('%Y%m%d_%H%M%S')\n",
    "file_name = f\"resultados_regresion_lineal_{timestamp}.csv\"\n",
    "output_path = os.path.join(result_dir, file_name)\n",
    "\n",
    "# Guardar en CSV\n",
    "df_resultados.to_csv(output_path, index=False, encoding='utf-8-sig')\n",
    "\n",
    "print(f\" Resultados guardados en:\\n{output_path}\")\n"
   ]
  }
 ],
 "metadata": {
  "language_info": {
   "name": "python"
  }
 },
 "nbformat": 4,
 "nbformat_minor": 5
}
